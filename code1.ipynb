{
  "nbformat": 4,
  "nbformat_minor": 0,
  "metadata": {
    "colab": {
      "name": "Untitled2.ipynb",
      "provenance": [],
      "mount_file_id": "15dyDCGwaL9PyXWjnSnLBw2n-WvLs9YHe",
      "authorship_tag": "ABX9TyNMcU1GNSH4U/Pb2St0uHI9",
      "include_colab_link": true
    },
    "kernelspec": {
      "name": "python3",
      "display_name": "Python 3"
    }
  },
  "cells": [
    {
      "cell_type": "markdown",
      "metadata": {
        "id": "view-in-github",
        "colab_type": "text"
      },
      "source": [
        "<a href=\"https://colab.research.google.com/github/Sriram-6740/minor-codes/blob/main/code1.ipynb\" target=\"_parent\"><img src=\"https://colab.research.google.com/assets/colab-badge.svg\" alt=\"Open In Colab\"/></a>"
      ]
    },
    {
      "cell_type": "code",
      "metadata": {
        "colab": {
          "base_uri": "https://localhost:8080/"
        },
        "id": "lXXDf_2nqYbI",
        "outputId": "18ab984b-5670-42b4-edc8-2961e141c520"
      },
      "source": [
        "!pip install fuzzywuzzy\r\n",
        "from fuzzywuzzy import process\r\n",
        "import pandas as pd\r\n",
        "from scipy.sparse import csr_matrix\r\n",
        "from sklearn.neighbors import NearestNeighbors"
      ],
      "execution_count": 22,
      "outputs": [
        {
          "output_type": "stream",
          "text": [
            "Requirement already satisfied: fuzzywuzzy in /usr/local/lib/python3.7/dist-packages (0.18.0)\n"
          ],
          "name": "stdout"
        }
      ]
    },
    {
      "cell_type": "code",
      "metadata": {
        "id": "q8iiXRhhqgCT"
      },
      "source": [
        "movies='/content/drive/MyDrive/minor/movies.csv'\r\n",
        "ratings='/content/drive/MyDrive/minor/ratings.csv'\r\n",
        "\r\n",
        "df_movies=pd.read_csv(movies, usecols=['movieId','title'], dtype={'movieId':'int32','title':'str'})\r\n",
        "df_ratings=pd.read_csv(ratings, usecols=['userId','movieId','rating'],dtype={'userId':'int32','movieId':'int32','rating':'float32'})"
      ],
      "execution_count": 23,
      "outputs": []
    },
    {
      "cell_type": "code",
      "metadata": {
        "colab": {
          "base_uri": "https://localhost:8080/",
          "height": 402
        },
        "id": "RWdj3wqBvOVG",
        "outputId": "7121e544-76fd-46d8-c357-15c097885c08"
      },
      "source": [
        "df_movies"
      ],
      "execution_count": 37,
      "outputs": [
        {
          "output_type": "execute_result",
          "data": {
            "text/html": [
              "<div>\n",
              "<style scoped>\n",
              "    .dataframe tbody tr th:only-of-type {\n",
              "        vertical-align: middle;\n",
              "    }\n",
              "\n",
              "    .dataframe tbody tr th {\n",
              "        vertical-align: top;\n",
              "    }\n",
              "\n",
              "    .dataframe thead th {\n",
              "        text-align: right;\n",
              "    }\n",
              "</style>\n",
              "<table border=\"1\" class=\"dataframe\">\n",
              "  <thead>\n",
              "    <tr style=\"text-align: right;\">\n",
              "      <th></th>\n",
              "      <th>movieId</th>\n",
              "      <th>title</th>\n",
              "    </tr>\n",
              "  </thead>\n",
              "  <tbody>\n",
              "    <tr>\n",
              "      <th>0</th>\n",
              "      <td>1</td>\n",
              "      <td>Toy Story (1995)</td>\n",
              "    </tr>\n",
              "    <tr>\n",
              "      <th>1</th>\n",
              "      <td>2</td>\n",
              "      <td>Jumanji (1995)</td>\n",
              "    </tr>\n",
              "    <tr>\n",
              "      <th>2</th>\n",
              "      <td>3</td>\n",
              "      <td>Grumpier Old Men (1995)</td>\n",
              "    </tr>\n",
              "    <tr>\n",
              "      <th>3</th>\n",
              "      <td>4</td>\n",
              "      <td>Waiting to Exhale (1995)</td>\n",
              "    </tr>\n",
              "    <tr>\n",
              "      <th>4</th>\n",
              "      <td>5</td>\n",
              "      <td>Father of the Bride Part II (1995)</td>\n",
              "    </tr>\n",
              "    <tr>\n",
              "      <th>...</th>\n",
              "      <td>...</td>\n",
              "      <td>...</td>\n",
              "    </tr>\n",
              "    <tr>\n",
              "      <th>9737</th>\n",
              "      <td>193581</td>\n",
              "      <td>Black Butler: Book of the Atlantic (2017)</td>\n",
              "    </tr>\n",
              "    <tr>\n",
              "      <th>9738</th>\n",
              "      <td>193583</td>\n",
              "      <td>No Game No Life: Zero (2017)</td>\n",
              "    </tr>\n",
              "    <tr>\n",
              "      <th>9739</th>\n",
              "      <td>193585</td>\n",
              "      <td>Flint (2017)</td>\n",
              "    </tr>\n",
              "    <tr>\n",
              "      <th>9740</th>\n",
              "      <td>193587</td>\n",
              "      <td>Bungo Stray Dogs: Dead Apple (2018)</td>\n",
              "    </tr>\n",
              "    <tr>\n",
              "      <th>9741</th>\n",
              "      <td>193609</td>\n",
              "      <td>Andrew Dice Clay: Dice Rules (1991)</td>\n",
              "    </tr>\n",
              "  </tbody>\n",
              "</table>\n",
              "<p>9742 rows × 2 columns</p>\n",
              "</div>"
            ],
            "text/plain": [
              "      movieId                                      title\n",
              "0           1                           Toy Story (1995)\n",
              "1           2                             Jumanji (1995)\n",
              "2           3                    Grumpier Old Men (1995)\n",
              "3           4                   Waiting to Exhale (1995)\n",
              "4           5         Father of the Bride Part II (1995)\n",
              "...       ...                                        ...\n",
              "9737   193581  Black Butler: Book of the Atlantic (2017)\n",
              "9738   193583               No Game No Life: Zero (2017)\n",
              "9739   193585                               Flint (2017)\n",
              "9740   193587        Bungo Stray Dogs: Dead Apple (2018)\n",
              "9741   193609        Andrew Dice Clay: Dice Rules (1991)\n",
              "\n",
              "[9742 rows x 2 columns]"
            ]
          },
          "metadata": {
            "tags": []
          },
          "execution_count": 37
        }
      ]
    },
    {
      "cell_type": "code",
      "metadata": {
        "id": "PiF1-VZ2r7rL"
      },
      "source": [
        "movies_users=df_ratings.pivot(index='movieId', columns='userId',values='rating').fillna(0)\r\n",
        "mat_movies_users=csr_matrix(movies_users.values)"
      ],
      "execution_count": 24,
      "outputs": []
    },
    {
      "cell_type": "code",
      "metadata": {
        "id": "suA-62BPsbIC"
      },
      "source": [
        "# Euclidean Distance\r\n",
        "# Manhattan Distance\r\n",
        "# Minkowski Distance \r\n",
        "# Cosine Similarity\r\n",
        "model_knn= NearestNeighbors(metric='cosine', algorithm='brute', n_neighbors=20)"
      ],
      "execution_count": 25,
      "outputs": []
    },
    {
      "cell_type": "code",
      "metadata": {
        "colab": {
          "base_uri": "https://localhost:8080/"
        },
        "id": "6Js0IwEashh8",
        "outputId": "7b068f32-cbd3-4e08-b489-c4e1ff9ae641"
      },
      "source": [
        "model_knn.fit(mat_movies_users)"
      ],
      "execution_count": 26,
      "outputs": [
        {
          "output_type": "execute_result",
          "data": {
            "text/plain": [
              "NearestNeighbors(algorithm='brute', leaf_size=30, metric='cosine',\n",
              "                 metric_params=None, n_jobs=None, n_neighbors=20, p=2,\n",
              "                 radius=1.0)"
            ]
          },
          "metadata": {
            "tags": []
          },
          "execution_count": 26
        }
      ]
    },
    {
      "cell_type": "code",
      "metadata": {
        "colab": {
          "base_uri": "https://localhost:8080/"
        },
        "id": "WeBj4gVUskbz",
        "outputId": "db63df2e-2b00-4117-f97e-69372a1a7f08"
      },
      "source": [
        "# Recommendation of movies.\r\n",
        "\r\n",
        "def recommender(movie_name, data,model, n_recommendations ):\r\n",
        "    model.fit(data)\r\n",
        "    idx=process.extractOne(movie_name, df_movies['title'])[2]\r\n",
        "    print('Movie Selected: ',df_movies['title'][idx], 'Index: ',idx)\r\n",
        "    print('Searching for your recommendations...')\r\n",
        "    distances, indices=model.kneighbors(data[idx], n_neighbors=n_recommendations)\r\n",
        "    for i in indices:\r\n",
        "        print(df_movies['title'][i].where(i!=idx))\r\n",
        "    \r\n",
        "recommender('Grumpier Old Men (1995)', mat_movies_users, model_knn,20)"
      ],
      "execution_count": 38,
      "outputs": [
        {
          "output_type": "stream",
          "text": [
            "Movie Selected:  Grumpier Old Men (1995) Index:  2\n",
            "Searching for your recommendations...\n",
            "2                                              NaN\n",
            "2578                        Good Earth, The (1937)\n",
            "607                              Striptease (1996)\n",
            "622                    Nutty Professor, The (1996)\n",
            "594                                 Twister (1996)\n",
            "4               Father of the Bride Part II (1995)\n",
            "84                             Broken Arrow (1996)\n",
            "58                                 Bio-Dome (1996)\n",
            "577            Truth About Cats & Dogs, The (1996)\n",
            "6                                   Sabrina (1995)\n",
            "116                           Birdcage, The (1996)\n",
            "475                              Son in Law (1993)\n",
            "291                               Tommy Boy (1995)\n",
            "815     Willy Wonka & the Chocolate Factory (1971)\n",
            "630                              Phenomenon (1996)\n",
            "431                      Executive Decision (1996)\n",
            "485                               Tombstone (1993)\n",
            "619                          Cable Guy, The (1996)\n",
            "71                               Juror, The (1996)\n",
            "363                Beverly Hillbillies, The (1993)\n",
            "Name: title, dtype: object\n"
          ],
          "name": "stdout"
        }
      ]
    },
    {
      "cell_type": "code",
      "metadata": {
        "id": "UohYfDEqspN6"
      },
      "source": [
        ""
      ],
      "execution_count": 27,
      "outputs": []
    }
  ]
}